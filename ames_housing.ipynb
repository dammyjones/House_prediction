{
 "cells": [
  {
   "cell_type": "code",
   "execution_count": 23,
   "metadata": {},
   "outputs": [],
   "source": [
    "import pandas as pd\n",
    "import matplotlib.pyplot as plt\n",
    "import numpy as np\n",
    "import seaborn as sns\n"
   ]
  },
  {
   "cell_type": "code",
   "execution_count": 45,
   "metadata": {},
   "outputs": [
    {
     "name": "stdout",
     "output_type": "stream",
     "text": [
      "      Order        PID  MS SubClass MS Zoning  Lot Frontage  Lot Area Street  \\\n",
      "0         1  526301100           20        RL         141.0     31770   Pave   \n",
      "1         2  526350040           20        RH          80.0     11622   Pave   \n",
      "2         3  526351010           20        RL          81.0     14267   Pave   \n",
      "3         4  526353030           20        RL          93.0     11160   Pave   \n",
      "4         5  527105010           60        RL          74.0     13830   Pave   \n",
      "...     ...        ...          ...       ...           ...       ...    ...   \n",
      "2925   2926  923275080           80        RL          37.0      7937   Pave   \n",
      "2926   2927  923276100           20        RL           NaN      8885   Pave   \n",
      "2927   2928  923400125           85        RL          62.0     10441   Pave   \n",
      "2928   2929  924100070           20        RL          77.0     10010   Pave   \n",
      "2929   2930  924151050           60        RL          74.0      9627   Pave   \n",
      "\n",
      "     Lot Shape Land Contour Utilities  ... Enclosed Porch 3Ssn Porch  \\\n",
      "0          IR1          Lvl    AllPub  ...              0          0   \n",
      "1          Reg          Lvl    AllPub  ...              0          0   \n",
      "2          IR1          Lvl    AllPub  ...              0          0   \n",
      "3          Reg          Lvl    AllPub  ...              0          0   \n",
      "4          IR1          Lvl    AllPub  ...              0          0   \n",
      "...        ...          ...       ...  ...            ...        ...   \n",
      "2925       IR1          Lvl    AllPub  ...              0          0   \n",
      "2926       IR1          Low    AllPub  ...              0          0   \n",
      "2927       Reg          Lvl    AllPub  ...              0          0   \n",
      "2928       Reg          Lvl    AllPub  ...              0          0   \n",
      "2929       Reg          Lvl    AllPub  ...              0          0   \n",
      "\n",
      "     Pool Area Pool QC  Fence Mo Sold Yr Sold  Sale Type  Sale Condition  \\\n",
      "0            0     NaN    NaN       5    2010        WD           Normal   \n",
      "1            0     NaN  MnPrv       6    2010        WD           Normal   \n",
      "2            0     NaN    NaN       6    2010        WD           Normal   \n",
      "3            0     NaN    NaN       4    2010        WD           Normal   \n",
      "4            0     NaN  MnPrv       3    2010        WD           Normal   \n",
      "...        ...     ...    ...     ...     ...        ...             ...   \n",
      "2925         0     NaN  GdPrv       3    2006        WD           Normal   \n",
      "2926         0     NaN  MnPrv       6    2006        WD           Normal   \n",
      "2927         0     NaN  MnPrv       7    2006        WD           Normal   \n",
      "2928         0     NaN    NaN       4    2006        WD           Normal   \n",
      "2929         0     NaN    NaN      11    2006        WD           Normal   \n",
      "\n",
      "      SalePrice  \n",
      "0        215000  \n",
      "1        105000  \n",
      "2        172000  \n",
      "3        244000  \n",
      "4        189900  \n",
      "...         ...  \n",
      "2925     142500  \n",
      "2926     131000  \n",
      "2927     132000  \n",
      "2928     170000  \n",
      "2929     188000  \n",
      "\n",
      "[2930 rows x 78 columns]\n"
     ]
    }
   ],
   "source": [
    "housing_dt=pd.read_csv('AmesHousing.csv')\n",
    "\n",
    "housing_dt.drop(['Fence'],axis=1)\n",
    "housing_dt.drop(['Pool QC'],axis=1)\n",
    "housing_dt.drop(['Misc Feature','Misc Val','Screen Porch','Alley'],axis=1,inplace=True)\n",
    "print(housing_dt)\n",
    "\n",
    "\n",
    "\n",
    "\n"
   ]
  },
  {
   "cell_type": "code",
   "execution_count": null,
   "metadata": {},
   "outputs": [],
   "source": [
    "\n"
   ]
  },
  {
   "cell_type": "code",
   "execution_count": 47,
   "metadata": {},
   "outputs": [
    {
     "name": "stdout",
     "output_type": "stream",
     "text": [
      "      Category_A (agr)  Category_C (all)  Category_FV  Category_I (all)  \\\n",
      "0                False             False        False             False   \n",
      "1                False             False        False             False   \n",
      "2                False             False        False             False   \n",
      "3                False             False        False             False   \n",
      "4                False             False        False             False   \n",
      "...                ...               ...          ...               ...   \n",
      "2925             False             False        False             False   \n",
      "2926             False             False        False             False   \n",
      "2927             False             False        False             False   \n",
      "2928             False             False        False             False   \n",
      "2929             False             False        False             False   \n",
      "\n",
      "      Category_RH  Category_RL  Category_RM  \n",
      "0           False         True        False  \n",
      "1            True        False        False  \n",
      "2           False         True        False  \n",
      "3           False         True        False  \n",
      "4           False         True        False  \n",
      "...           ...          ...          ...  \n",
      "2925        False         True        False  \n",
      "2926        False         True        False  \n",
      "2927        False         True        False  \n",
      "2928        False         True        False  \n",
      "2929        False         True        False  \n",
      "\n",
      "[2930 rows x 7 columns]\n"
     ]
    }
   ],
   "source": [
    "data=housing_dt['MS Zoning']\n",
    "df=pd.DataFrame({'Category':data})\n",
    "encoded_df=pd.get_dummies(df,columns=['Category'])\n",
    "print(encoded_df)\n",
    "\n",
    "\n"
   ]
  },
  {
   "cell_type": "code",
   "execution_count": null,
   "metadata": {},
   "outputs": [],
   "source": []
  }
 ],
 "metadata": {
  "kernelspec": {
   "display_name": "pytorch_env",
   "language": "python",
   "name": "python3"
  },
  "language_info": {
   "codemirror_mode": {
    "name": "ipython",
    "version": 3
   },
   "file_extension": ".py",
   "mimetype": "text/x-python",
   "name": "python",
   "nbconvert_exporter": "python",
   "pygments_lexer": "ipython3",
   "version": "3.12.7"
  }
 },
 "nbformat": 4,
 "nbformat_minor": 2
}
